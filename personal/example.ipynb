{
 "cells": [
  {
   "cell_type": "code",
   "execution_count": null,
   "id": "dcaaebf8",
   "metadata": {},
   "outputs": [],
   "source": [
    "3"
   ]
  }
 ],
 "metadata": {
  "language_info": {
   "name": "python"
  }
 },
 "nbformat": 4,
 "nbformat_minor": 5
}
