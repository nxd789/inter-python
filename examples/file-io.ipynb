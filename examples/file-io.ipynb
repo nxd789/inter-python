{
 "cells": [
  {
   "cell_type": "code",
   "execution_count": 1,
   "id": "509b5ab9",
   "metadata": {},
   "outputs": [
    {
     "data": {
      "text/plain": [
       "'I never thought that I would see\\nA billboard lovely as a tree\\n\\n- Ogden Nash\\n'"
      ]
     },
     "execution_count": 1,
     "metadata": {},
     "output_type": "execute_result"
    }
   ],
   "source": [
    "file = open(\"poem.txt\",\"r\")\n",
    "contents = file.read()\n",
    "file.close()\n",
    "contents"
   ]
  },
  {
   "cell_type": "code",
   "execution_count": 3,
   "id": "76832d7a",
   "metadata": {},
   "outputs": [],
   "source": [
    "lines = contents.split(\"\\n\")"
   ]
  },
  {
   "cell_type": "code",
   "execution_count": 4,
   "id": "6186e033",
   "metadata": {},
   "outputs": [
    {
     "data": {
      "text/plain": [
       "['I never thought that I would see',\n",
       " 'A billboard lovely as a tree',\n",
       " '',\n",
       " '- Ogden Nash',\n",
       " '']"
      ]
     },
     "execution_count": 4,
     "metadata": {},
     "output_type": "execute_result"
    }
   ],
   "source": [
    "lines"
   ]
  },
  {
   "cell_type": "code",
   "execution_count": 6,
   "id": "fb037bf0",
   "metadata": {},
   "outputs": [
    {
     "data": {
      "text/plain": [
       "'I never thought that I would see\\nA billboard lovely as a tree\\n\\n- Ogden Nash\\n'"
      ]
     },
     "execution_count": 6,
     "metadata": {},
     "output_type": "execute_result"
    }
   ],
   "source": [
    "\"\\n\".join(lines)"
   ]
  },
  {
   "cell_type": "code",
   "execution_count": 10,
   "id": "57aff051",
   "metadata": {},
   "outputs": [
    {
     "data": {
      "text/plain": [
       "['I never thought that I would see\\n',\n",
       " 'A billboard lovely as a tree\\n',\n",
       " '\\n',\n",
       " '- Ogden Nash\\n']"
      ]
     },
     "execution_count": 10,
     "metadata": {},
     "output_type": "execute_result"
    }
   ],
   "source": [
    "file = open(\"poem.txt\",\"r\")\n",
    "lines = file.readlines()\n",
    "file.close()\n",
    "#lines = [ line[:-1] for line in lines ]\n",
    "lines"
   ]
  },
  {
   "cell_type": "code",
   "execution_count": 12,
   "id": "5efef0ea",
   "metadata": {},
   "outputs": [
    {
     "data": {
      "text/plain": [
       "['I never thought that I would see\\n',\n",
       " 'A billboard lovely as a tree\\n',\n",
       " '\\n',\n",
       " '- Ogden Nash\\n']"
      ]
     },
     "execution_count": 12,
     "metadata": {},
     "output_type": "execute_result"
    }
   ],
   "source": [
    "file = None\n",
    "try:\n",
    "    file = open(\"poem.txt\",\"r\")\n",
    "    lines = file.readlines()\n",
    "finally:\n",
    "    if file:\n",
    "        file.close()\n",
    "#lines = [ line[:-1] for line in lines ]\n",
    "lines"
   ]
  },
  {
   "cell_type": "code",
   "execution_count": 14,
   "id": "441d1121",
   "metadata": {},
   "outputs": [
    {
     "data": {
      "text/plain": [
       "['I never thought that I would see\\n',\n",
       " 'A billboard lovely as a tree\\n',\n",
       " '\\n',\n",
       " '- Ogden Nash\\n']"
      ]
     },
     "execution_count": 14,
     "metadata": {},
     "output_type": "execute_result"
    }
   ],
   "source": [
    "with open(\"poem.txt\",\"r\") as file:\n",
    "    lines = file.readlines()\n",
    "lines"
   ]
  },
  {
   "cell_type": "code",
   "execution_count": 15,
   "id": "c367b27e",
   "metadata": {},
   "outputs": [],
   "source": [
    "with open(\"shouting.txt\",\"w\") as file:\n",
    "    for line in lines:\n",
    "        file.write(line.upper())"
   ]
  },
  {
   "cell_type": "code",
   "execution_count": 17,
   "id": "4cb16cd8",
   "metadata": {},
   "outputs": [
    {
     "data": {
      "text/plain": [
       "[b'I never thought that I would see\\nA billboard lovely as a tree\\n\\n- Ogden Nash\\n']"
      ]
     },
     "execution_count": 17,
     "metadata": {},
     "output_type": "execute_result"
    }
   ],
   "source": [
    "with open(\"poem.txt\",\"rb\") as file:\n",
    "    contents = file.read()\n",
    "[contents]"
   ]
  },
  {
   "cell_type": "code",
   "execution_count": 18,
   "id": "38dcac1f",
   "metadata": {},
   "outputs": [
    {
     "data": {
      "text/plain": [
       "{'name': 'Alice', 'age': 30}"
      ]
     },
     "execution_count": 18,
     "metadata": {},
     "output_type": "execute_result"
    }
   ],
   "source": [
    "import json\n",
    "\n",
    "person = {\"name\": \"Alice\", \"age\": 30}\n",
    "\n",
    "with open('person.json', 'w') as f:    \n",
    "    json.dump(person, f)\n",
    "    \n",
    "with open('person.json', 'r') as f:    \n",
    "    loaded = json.load(f)\n",
    "\n",
    "loaded"
   ]
  },
  {
   "cell_type": "code",
   "execution_count": 20,
   "id": "bd025b6c",
   "metadata": {},
   "outputs": [
    {
     "name": "stdout",
     "output_type": "stream",
     "text": [
      "This is an object ['__cause__', '__class__', '__context__', '__delattr__', '__dict__', '__dir__', '__doc__', '__eq__', '__format__', '__ge__', '__getattribute__', '__getstate__', '__gt__', '__hash__', '__init__', '__init_subclass__', '__le__', '__lt__', '__ne__', '__new__', '__reduce__', '__reduce_ex__', '__repr__', '__setattr__', '__setstate__', '__sizeof__', '__str__', '__subclasshook__', '__suppress_context__', '__traceback__', 'add_note', 'args', 'with_traceback']\n"
     ]
    }
   ],
   "source": [
    "e = Exception(\"This is an object\")\n",
    "print(str(e), dir(e))"
   ]
  },
  {
   "cell_type": "code",
   "execution_count": 24,
   "id": "ec140a3e",
   "metadata": {},
   "outputs": [
    {
     "data": {
      "text/plain": [
       "([Exception('This is an object'), [1, 2, 3]],\n",
       " [Exception('This is an object'), [1, 2, 3]])"
      ]
     },
     "execution_count": 24,
     "metadata": {},
     "output_type": "execute_result"
    }
   ],
   "source": [
    "import pickle\n",
    "\n",
    "data = [e,[1,2,3]]\n",
    "with open(\"my_object.pkl\",\"wb\") as f:\n",
    "    pickle.dump(data,f)\n",
    "\n",
    "with open(\"my_object.pkl\",\"rb\") as f:\n",
    "    data_copy = pickle.load(f)\n",
    "\n",
    "data, data_copy"
   ]
  },
  {
   "cell_type": "code",
   "execution_count": 27,
   "id": "a3a2e0cb",
   "metadata": {},
   "outputs": [
    {
     "data": {
      "text/plain": [
       "[0, 1, 2, 3, 4, 5, 6, 7, 8, 9, 10, 11, 12, 13, 14, 15, 16, 17, 18, 19]"
      ]
     },
     "execution_count": 27,
     "metadata": {},
     "output_type": "execute_result"
    }
   ],
   "source": [
    "def list_of(n):\n",
    "    result = []\n",
    "    for i in range(0,n):\n",
    "        result.append(i)\n",
    "    return result\n",
    "\n",
    "list_of(20)"
   ]
  },
  {
   "cell_type": "code",
   "execution_count": 39,
   "id": "8ff8344b",
   "metadata": {},
   "outputs": [
    {
     "name": "stdout",
     "output_type": "stream",
     "text": [
      "generating 0\n",
      "generating 1\n",
      "generating 2\n"
     ]
    },
    {
     "data": {
      "text/plain": [
       "[0, 1, 2]"
      ]
     },
     "execution_count": 39,
     "metadata": {},
     "output_type": "execute_result"
    }
   ],
   "source": [
    "def list_of(n):\n",
    "    for i in range(0,n):\n",
    "        print(f\"generating {i}\")\n",
    "        yield i\n",
    "\n",
    "g = list_of(3)\n",
    "\n",
    "#print(next(g))\n",
    "#print(next(g))\n",
    "#print(next(g))\n",
    "#print(next(g))\n",
    "\n",
    "data = list(list_of(3))\n",
    "\n",
    "# data = list(list_of(3))\n",
    "data"
   ]
  },
  {
   "cell_type": "code",
   "execution_count": 40,
   "id": "62dc9ef6",
   "metadata": {},
   "outputs": [
    {
     "data": {
      "text/plain": [
       "[0, 1, 4, 9, 16, 25, 36, 49, 64, 81]"
      ]
     },
     "execution_count": 40,
     "metadata": {},
     "output_type": "execute_result"
    }
   ],
   "source": [
    "x = [n*n for n in range(0,10)]\n",
    "x"
   ]
  },
  {
   "cell_type": "code",
   "execution_count": 47,
   "id": "9f5bdaf8",
   "metadata": {},
   "outputs": [
    {
     "data": {
      "text/plain": [
       "<generator object <genexpr> at 0x7bda3f524d40>"
      ]
     },
     "execution_count": 47,
     "metadata": {},
     "output_type": "execute_result"
    }
   ],
   "source": [
    "x = (n*n for n in range(0,10))\n",
    "x"
   ]
  },
  {
   "cell_type": "code",
   "execution_count": 48,
   "id": "2dbab402",
   "metadata": {},
   "outputs": [
    {
     "data": {
      "text/plain": [
       "285"
      ]
     },
     "execution_count": 48,
     "metadata": {},
     "output_type": "execute_result"
    }
   ],
   "source": [
    "sum(x)"
   ]
  },
  {
   "cell_type": "code",
   "execution_count": 42,
   "id": "be420840",
   "metadata": {},
   "outputs": [
    {
     "data": {
      "text/plain": [
       "[0, 1, 4, 9, 16, 25, 36, 49, 64, 81]"
      ]
     },
     "execution_count": 42,
     "metadata": {},
     "output_type": "execute_result"
    }
   ],
   "source": [
    "list(x)"
   ]
  },
  {
   "cell_type": "code",
   "execution_count": 51,
   "id": "36edf094",
   "metadata": {},
   "outputs": [],
   "source": [
    "x = [n*n for n in range(0,1000000)]"
   ]
  },
  {
   "cell_type": "code",
   "execution_count": 52,
   "id": "d33d3108",
   "metadata": {},
   "outputs": [
    {
     "data": {
      "text/plain": [
       "1000000"
      ]
     },
     "execution_count": 52,
     "metadata": {},
     "output_type": "execute_result"
    }
   ],
   "source": [
    "len(x)"
   ]
  },
  {
   "cell_type": "code",
   "execution_count": 53,
   "id": "49e98228",
   "metadata": {},
   "outputs": [
    {
     "data": {
      "text/plain": [
       "333332833333500000"
      ]
     },
     "execution_count": 53,
     "metadata": {},
     "output_type": "execute_result"
    }
   ],
   "source": [
    "sum(x)"
   ]
  },
  {
   "cell_type": "code",
   "execution_count": 1,
   "id": "a8d1f966",
   "metadata": {},
   "outputs": [],
   "source": [
    "g = (n*n for n in range(0,1000000))"
   ]
  },
  {
   "cell_type": "code",
   "execution_count": 2,
   "id": "39df0beb",
   "metadata": {},
   "outputs": [
    {
     "data": {
      "text/plain": [
       "333332833333500000"
      ]
     },
     "execution_count": 2,
     "metadata": {},
     "output_type": "execute_result"
    }
   ],
   "source": [
    "sum(g)"
   ]
  },
  {
   "cell_type": "code",
   "execution_count": 4,
   "id": "395faec5",
   "metadata": {},
   "outputs": [
    {
     "name": "stdout",
     "output_type": "stream",
     "text": [
      "76\n"
     ]
    }
   ],
   "source": [
    "line_lengths = (len(line) for line in open(\"poem.txt\"))\n",
    "print(sum(line_lengths))"
   ]
  },
  {
   "cell_type": "code",
   "execution_count": null,
   "id": "9ae28932",
   "metadata": {},
   "outputs": [
    {
     "data": {
      "text/plain": [
       "20365011074"
      ]
     },
     "execution_count": 3,
     "metadata": {},
     "output_type": "execute_result"
    }
   ],
   "source": [
    "# memoization: \n",
    "\n",
    "_fib_ = {}\n",
    "\n",
    "def fib(n):\n",
    "    if n in _fib_:\n",
    "        return _fib_[n]\n",
    "    if n == 1:\n",
    "        _fib_[1] = 1\n",
    "        return 1\n",
    "    if n == 2:\n",
    "        _fib_[2] = 2\n",
    "        return 2\n",
    "    else:\n",
    "        _fib_[n] = fib(n-1) + fib(n-2)\n",
    "        return _fib_[n]\n",
    "\n",
    "fib(50)"
   ]
  },
  {
   "cell_type": "code",
   "execution_count": 2,
   "id": "fc849ab9",
   "metadata": {},
   "outputs": [
    {
     "data": {
      "text/plain": [
       "54438373113565281338734260993750380135389184554695967026247715841208582865622349017083051547938960541173822675978026317384359584751116241439174702642959169925586334117906063048089793531476108466259072759367899150677960088306597966641965824937721800381441158841042480997984696487375337180028163763317781927941101369262750979509800713596718023814710669912644214775254478587674568963808002962265133111359929762726679441400101575800043510777465935805362502461707918059226414679005690752321895868142367849593880756423483754386342639635970733756260098962462668746112041739819404875062443709868654315626847186195620146126642232711815040367018825205314845875817193533529827837800351902529239517836689467661917953884712441028463935449484614450778762529520961887597272889220768537396475869543159172434537193611263743926337313005896167248051737986306368115003088396749587102619524631352447499505204198305187168321623283859794627245919771454628218399695789223798912199431775469705216131081096559950638297261253848242007897109054754028438149611930465061866170122983288964352733750792786069444761853525144421077928045979904561298129423809156055033032338919609162236698759922782923191896688017718575555520994653320128446502371153715141749290913104897203455577507196645425232862022019506091483585223882711016708433051169942115775151255510251655931888164048344129557038825477521111577395780115868397072602565614824956460538700280331311861485399805397031555727529693399586079850381581446276433858828529535803424850845426446471681531001533180479567436396815653326152509571127480411928196022148849148284389124178520174507305538928717857923509417743383331506898239354421988805429332440371194867215543576548565499134519271098919802665184564927827827212957649240235507595558205647569365394873317659000206373126570643509709482649710038733517477713403319028105575667931789470024118803094604034362953471997461392274791549730356412633074230824051999996101549784667340458326852960388301120765629245998136251652347093963049734046445106365304163630823669242257761468288461791843224793434406079917883360676846711185597501"
      ]
     },
     "execution_count": 2,
     "metadata": {},
     "output_type": "execute_result"
    }
   ],
   "source": [
    "def fib(n):\n",
    "    for i in range(0,n):\n",
    "        if i == 0:\n",
    "            yield 1\n",
    "            n2 = 1\n",
    "            continue\n",
    "        if i == 1:\n",
    "            yield 2\n",
    "            n1 = 2\n",
    "            continue\n",
    "        f = n1 + n2\n",
    "        n2 = n1\n",
    "        n1 = f\n",
    "        yield f\n",
    "\n",
    "x = list(fib(10000))\n",
    "x[-1]\n",
    "\n"
   ]
  }
 ],
 "metadata": {
  "kernelspec": {
   "display_name": "Python 3",
   "language": "python",
   "name": "python3"
  },
  "language_info": {
   "codemirror_mode": {
    "name": "ipython",
    "version": 3
   },
   "file_extension": ".py",
   "mimetype": "text/x-python",
   "name": "python",
   "nbconvert_exporter": "python",
   "pygments_lexer": "ipython3",
   "version": "3.12.1"
  }
 },
 "nbformat": 4,
 "nbformat_minor": 5
}
